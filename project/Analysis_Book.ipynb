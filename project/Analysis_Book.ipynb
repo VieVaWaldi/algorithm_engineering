{
 "cells": [
  {
   "cell_type": "markdown",
   "id": "cea36d38",
   "metadata": {},
   "source": [
    "## Usage\n",
    "This Notebook is made to do analysis based on the data transfered/received from and to the C++ Image Enhancer file."
   ]
  },
  {
   "cell_type": "code",
   "execution_count": 9,
   "id": "6875b562",
   "metadata": {},
   "outputs": [],
   "source": [
    "from PIL import Image\n",
    "import numpy as np"
   ]
  },
  {
   "cell_type": "markdown",
   "id": "5c9fe63b",
   "metadata": {},
   "source": [
    "### Read Image \n",
    "Read the image for the pixel values and then writes it into a CSV file."
   ]
  },
  {
   "cell_type": "code",
   "execution_count": 14,
   "id": "e7dcabe1",
   "metadata": {},
   "outputs": [
    {
     "name": "stdout",
     "output_type": "stream",
     "text": [
      "[[34 34 34 ... 17 16 16]\n",
      " [34 34 34 ... 17 16 16]\n",
      " [33 33 33 ... 17 16 16]\n",
      " ...\n",
      " [35 35 35 ... 14 16 16]\n",
      " [35 35 35 ... 14 15 15]\n",
      " [35 35 35 ... 15 16 16]]\n",
      "(1200, 1562)\n"
     ]
    }
   ],
   "source": [
    "im = Image.open(\"static/input_image_1.jpg\").convert('L') # 8-bit Mode convert\n",
    "\n",
    "# pixels = list(im.getdata())\n",
    "\n",
    "# # print(pixels)\n",
    "# # width, height = im.size\n",
    "# # pixels = [pixels[i * width:(i + 1) * width] for i in xrange(height)]\n",
    "\n",
    "# px = im.load()\n",
    "# print(px[4,2])\n",
    "\n",
    "pixel_data = np.asarray(im)\n",
    "print(pixel_data)\n",
    "print(pixel_data.shape)\n",
    "np.savetxt('pixel_data.csv', pixel_data)"
   ]
  },
  {
   "cell_type": "markdown",
   "id": "2488290c",
   "metadata": {},
   "source": [
    "# Read CSV into Image\n",
    "\n",
    "The purpose of this function, is to take the pixel data in the form of a CSV and reconstruct it into an image"
   ]
  },
  {
   "cell_type": "code",
   "execution_count": null,
   "id": "75e26c8d",
   "metadata": {},
   "outputs": [],
   "source": []
  }
 ],
 "metadata": {
  "kernelspec": {
   "display_name": "Python 3 (ipykernel)",
   "language": "python",
   "name": "python3"
  },
  "language_info": {
   "codemirror_mode": {
    "name": "ipython",
    "version": 3
   },
   "file_extension": ".py",
   "mimetype": "text/x-python",
   "name": "python",
   "nbconvert_exporter": "python",
   "pygments_lexer": "ipython3",
   "version": "3.10.6"
  }
 },
 "nbformat": 4,
 "nbformat_minor": 5
}
